{
 "cells": [
  {
   "cell_type": "markdown",
   "id": "43c93bb4",
   "metadata": {},
   "source": [
    "# Object oriented programming\n",
    "\n",
    "Object-oriented programming (OOP) is a programming paradigm that focuses on creating objects that encapsulate data and behavior, and interact with each other to solve problems. Python is a multi-paradigm language that supports OOP, among other programming paradigms. In Python, OOP is implemented through classes and objects.\n",
    "\n",
    "A class is a blueprint for creating objects, which defines the properties and methods that the objects will have. The properties are the data attributes, which define the state of the object, while the methods are the functions that define the behavior of the object. To create an object from a class, you instantiate the class by calling its constructor method, which initializes the object with its initial state.\n",
    "\n",
    "![Elements of OOP](https://www.orientsoftware.com/Media/Default/Images/BlogPost/2021-12-17/object-oriented-programming-languages.png)"
   ]
  },
  {
   "cell_type": "markdown",
   "id": "7b254acb",
   "metadata": {},
   "source": [
    "## Routines for a banking system\n",
    "\n",
    "Let us create some basic functions for a banking system:\n",
    "\n",
    "- **Deposit:** must increase the balance money\n",
    "- **Withdraw:** must decrease the money balance"
   ]
  },
  {
   "cell_type": "code",
   "execution_count": 1,
   "id": "09590822",
   "metadata": {},
   "outputs": [],
   "source": [
    "def deposit(balance, amount):\n",
    "    \"\"\"Deposits a desired amount of money in the account.\n",
    "    \n",
    "    Parameters\n",
    "    ----------\n",
    "    balance: float\n",
    "        The total amount of money in the account.\n",
    "    amount : float\n",
    "        Amount of money to be deposit.\n",
    "        \n",
    "    Returns\n",
    "    -------\n",
    "    new_balance : float\n",
    "        The new balance.\n",
    "    \n",
    "    \"\"\"\n",
    "    new_balance = balance + amount\n",
    "    print(f\"Before deposit: {balance:.2f}\")\n",
    "    print(f\"After  deposit: {new_balance:.2f}\\n\")\n",
    "    return new_balance"
   ]
  },
  {
   "cell_type": "code",
   "execution_count": 2,
   "id": "fa52915b",
   "metadata": {},
   "outputs": [],
   "source": [
    "def withdraw(balance, amount):\n",
    "    \"\"\"Deposits a desired amount of money in the account.\n",
    "    \n",
    "    Parameters\n",
    "    ----------\n",
    "    balance: float\n",
    "        The total amount of money in the account.\n",
    "    amount : float\n",
    "        Amount of money to be deposit.\n",
    "        \n",
    "    Returns\n",
    "    -------\n",
    "    new_balance : float\n",
    "        The new balance.\n",
    "    \n",
    "    \"\"\"\n",
    "    new_balance = balance - amount\n",
    "    print(f\"Before deposit: {balance:.2f}\")\n",
    "    print(f\"After  withdraw: {new_balance:.2f}\\n\")\n",
    "    return new_balance"
   ]
  },
  {
   "cell_type": "markdown",
   "id": "85970764",
   "metadata": {},
   "source": [
    "We can declare a balance and perform some operations:"
   ]
  },
  {
   "cell_type": "code",
   "execution_count": 3,
   "id": "39a21506",
   "metadata": {},
   "outputs": [],
   "source": [
    "balance = 10_000"
   ]
  },
  {
   "cell_type": "code",
   "execution_count": 4,
   "id": "0001af7d",
   "metadata": {},
   "outputs": [
    {
     "name": "stdout",
     "output_type": "stream",
     "text": [
      "Before deposit: 10000.00\n",
      "After  deposit: 15000.00\n",
      "\n"
     ]
    }
   ],
   "source": [
    "new_balance = deposit(balance, 5_000)"
   ]
  },
  {
   "cell_type": "code",
   "execution_count": 5,
   "id": "aa0102ca",
   "metadata": {},
   "outputs": [
    {
     "name": "stdout",
     "output_type": "stream",
     "text": [
      "Before deposit: 15000.00\n",
      "After  withdraw: 13000.00\n",
      "\n"
     ]
    }
   ],
   "source": [
    "new_balance = withdraw(new_balance, 2_000)"
   ]
  },
  {
   "cell_type": "markdown",
   "id": "849bf481",
   "metadata": {},
   "source": [
    "## Collecting common methods and attributes: OOP\n",
    "\n",
    "Although previous code is useful, we can leverage its capabilities by applying OOP:"
   ]
  },
  {
   "cell_type": "code",
   "execution_count": 6,
   "id": "eefe87d6",
   "metadata": {},
   "outputs": [],
   "source": [
    "class Account:\n",
    "    \"\"\"Models a bank account.\"\"\"\n",
    "    \n",
    "    def __init__(self, balance):\n",
    "        self.balance = balance\n",
    "        \n",
    "    def deposit(self, amount):\n",
    "        \"\"\"Deposits a desired amount of money in the account.\n",
    "\n",
    "        Parameters\n",
    "        ----------\n",
    "        amount : float\n",
    "            Amount of money to be deposit.\n",
    "\n",
    "        Returns\n",
    "        -------\n",
    "        new_balance : float\n",
    "            The new balance.\n",
    "\n",
    "        \"\"\"\n",
    "        self.balance = self.balance + amount\n",
    "        return self.balance\n",
    "    \n",
    "    def withdraw(self, amount):\n",
    "        \"\"\"Deposits a desired amount of money in the account.\n",
    "\n",
    "        Parameters\n",
    "        ----------\n",
    "        amount : float\n",
    "            Amount of money to be deposit.\n",
    "\n",
    "        Returns\n",
    "        -------\n",
    "        new_balance : float\n",
    "            The new balance.\n",
    "\n",
    "        \"\"\"\n",
    "        self.balance = self.balance - amount\n",
    "        return self.balance"
   ]
  },
  {
   "cell_type": "markdown",
   "id": "eb4f0cc4",
   "metadata": {},
   "source": [
    "Let us use previous class:"
   ]
  },
  {
   "cell_type": "code",
   "execution_count": 7,
   "id": "90c67547",
   "metadata": {},
   "outputs": [],
   "source": [
    "my_account = Account(10_000)"
   ]
  },
  {
   "cell_type": "code",
   "execution_count": 8,
   "id": "e959fc57",
   "metadata": {},
   "outputs": [
    {
     "name": "stdout",
     "output_type": "stream",
     "text": [
      "15000\n"
     ]
    }
   ],
   "source": [
    "my_account.deposit(5_000)\n",
    "print(my_account.balance)"
   ]
  },
  {
   "cell_type": "code",
   "execution_count": 9,
   "id": "b754fed1",
   "metadata": {},
   "outputs": [
    {
     "name": "stdout",
     "output_type": "stream",
     "text": [
      "13000\n"
     ]
    }
   ],
   "source": [
    "my_account.withdraw(2_000)\n",
    "print(my_account.balance)"
   ]
  }
 ],
 "metadata": {
  "kernelspec": {
   "display_name": "Python 3 (ipykernel)",
   "language": "python",
   "name": "python3"
  },
  "language_info": {
   "codemirror_mode": {
    "name": "ipython",
    "version": 3
   },
   "file_extension": ".py",
   "mimetype": "text/x-python",
   "name": "python",
   "nbconvert_exporter": "python",
   "pygments_lexer": "ipython3",
   "version": "3.10.6"
  }
 },
 "nbformat": 4,
 "nbformat_minor": 5
}
