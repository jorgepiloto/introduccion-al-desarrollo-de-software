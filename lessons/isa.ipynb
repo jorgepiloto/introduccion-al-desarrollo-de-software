{
 "cells": [
  {
   "cell_type": "code",
   "execution_count": 1,
   "id": "d73d3fcf",
   "metadata": {},
   "outputs": [],
   "source": [
    "P0 = 101325 # sea level standard atmospheric pressure in Pa\n",
    "L = 0.0065 # standard atmospheric lapse rate in K/m\n",
    "T0 = 288.15 # sea level standard temperature in K\n",
    "g = 9.80665 # standard acceleration due to gravity in m/s^2\n",
    "M = 0.0289644 # molar mass of dry air in kg/mol\n",
    "R = 8.31447 # universal gas constant in J/(mol*K)\n",
    "R_spec = 287.058 # specific gas constant for dry air in J/(kg*K)"
   ]
  },
  {
   "cell_type": "code",
   "execution_count": 2,
   "id": "7c3a8302",
   "metadata": {},
   "outputs": [],
   "source": [
    "def temperature_at_altitude(altitude):\n",
    "    \"\"\"Returns the atmospheric temperature at a given altitude in meters above sea level.\n",
    "    \n",
    "    Parameters\n",
    "    ----------\n",
    "    altitude : float\n",
    "        Altitude in meters.\n",
    "\n",
    "    Notes\n",
    "    -----\n",
    "    Formula used: T = T0 - L * h\n",
    "    \n",
    "    \"\"\"\n",
    "    h = altitude\n",
    "    T = T0 - L * h\n",
    "    return T"
   ]
  },
  {
   "cell_type": "code",
   "execution_count": 3,
   "id": "2592403b",
   "metadata": {},
   "outputs": [],
   "source": [
    "def pressure_at_altitude(altitude):\n",
    "    \"\"\"Returns the atmospheric pressure at a given altitude in meters above sea level.\n",
    "    \n",
    "    Parameters\n",
    "    ----------\n",
    "    altitude : float\n",
    "        Altitude value in meters.\n",
    "\n",
    "    Notes\n",
    "    -----    \n",
    "    Formula used: P = P0 * (1 - L * h / T0) ** (g * M / R * L)\n",
    "    \n",
    "    \"\"\"\n",
    "    h = altitude\n",
    "    T = T0 - L * h\n",
    "    P = P0 * (1 - L * h / T0) ** (g * M / (R * L))\n",
    "    return P"
   ]
  },
  {
   "cell_type": "code",
   "execution_count": 4,
   "id": "dd3e49b9",
   "metadata": {},
   "outputs": [],
   "source": [
    "def density_at_altitude(altitude):\n",
    "    \"\"\"Returns the atmospheric density at a given altitude in meters above sea level.\n",
    "    \n",
    "    Parameters\n",
    "    ----------\n",
    "    altitude : float\n",
    "        Altitude in meters.\n",
    "\n",
    "    Notes\n",
    "    -----\n",
    "    Formula used: rho = P / (R_spec * T)\n",
    "    \n",
    "    \"\"\"\n",
    "    P = pressure_at_altitude(altitude)\n",
    "    T = temperature_at_altitude(altitude)\n",
    "    rho = P / (R_spec * T)\n",
    "    return rho"
   ]
  },
  {
   "cell_type": "code",
   "execution_count": 5,
   "id": "af5eba69",
   "metadata": {},
   "outputs": [],
   "source": [
    "def properties_at_altitude(altitude):\n",
    "    \"\"\"Returns the atmospheric properties at a given altitude in meters above sea level.\n",
    "    \n",
    "    Parameters\n",
    "    ----------\n",
    "    altitude : float\n",
    "        Altitude in meters.\n",
    "   \n",
    "    \"\"\"\n",
    "    P = pressure_at_altitude(altitude)\n",
    "    T = temperature_at_altitude(altitude)\n",
    "    rho = density_at_altitude(altitude)\n",
    "    return T, P, rho"
   ]
  }
 ],
 "metadata": {
  "kernelspec": {
   "display_name": "Python 3 (ipykernel)",
   "language": "python",
   "name": "python3"
  },
  "language_info": {
   "codemirror_mode": {
    "name": "ipython",
    "version": 3
   },
   "file_extension": ".py",
   "mimetype": "text/x-python",
   "name": "python",
   "nbconvert_exporter": "python",
   "pygments_lexer": "ipython3",
   "version": "3.10.6"
  }
 },
 "nbformat": 4,
 "nbformat_minor": 5
}
