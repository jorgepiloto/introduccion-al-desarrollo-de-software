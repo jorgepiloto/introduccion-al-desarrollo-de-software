{
 "cells": [
  {
   "cell_type": "markdown",
   "id": "6e74d874",
   "metadata": {},
   "source": [
    "# Implementing the ISA atmospheric model\n",
    "\n",
    "The International Standard Atmosphere (ISA) is a standard model that describes the variation of atmospheric properties with altitude worldwide. The model was developed by the International Civil Aviation Organization (ICAO) and is widely used in aviation and aeronautical engineering to estimate the behavior of airplanes and other aerial vehicles at different altitudes.\n",
    "\n",
    "The ISA model is based on a series of assumptions and definitions, including a standard temperature, pressure, and density at sea level. According to the model, the temperature decreases at a constant rate of 6.5 degrees Celsius per 1000 meters of altitude increase, up to an altitude of 11 km. From there, the temperature remains constant up to 20 km altitude, after which it begins to increase at a constant rate. Pressure decreases exponentially with altitude, and density is calculated from pressure and temperature.\n",
    "\n",
    "It is important to note that the ISA model is a simplification of the real atmosphere, and that actual atmospheric conditions can vary significantly from the model predictions depending on location, weather, and other factors. Additionally, the ISA model applies only to standard conditions at sea level, and may require adjustments for use at other altitudes or situations.\n",
    "\n",
    "> COESA 1976: https://www.ngdc.noaa.gov/stp/space-weather/online-publications/miscellaneous/us-standard-atmosphere-1976/us-standard-atmosphere_st76-1562_noaa.pdf\n",
    "\n",
    "\n",
    "![COESA 1976](https://m.media-amazon.com/images/W/IMAGERENDERING_521856-T1/images/I/91OMgjZp-6L._AC_UF1000,1000_QL80_.jpg)"
   ]
  },
  {
   "cell_type": "markdown",
   "id": "bcbdcde8",
   "metadata": {},
   "source": [
    "## Declaring the constants"
   ]
  },
  {
   "cell_type": "code",
   "execution_count": 1,
   "id": "dbf242a6",
   "metadata": {},
   "outputs": [],
   "source": [
    "P0 = 101325 # sea level standard atmospheric pressure in Pa\n",
    "L = 0.0065 # standard atmospheric lapse rate in K/m\n",
    "T0 = 288.15 # sea level standard temperature in K\n",
    "g = 9.80665 # standard acceleration due to gravity in m/s^2\n",
    "M = 0.0289644 # molar mass of dry air in kg/mol\n",
    "R = 8.31447 # universal gas constant in J/(mol*K)\n",
    "R_spec = 287.058 # specific gas constant for dry air in J/(kg*K)"
   ]
  },
  {
   "cell_type": "markdown",
   "id": "6da922ff",
   "metadata": {},
   "source": [
    "## Computing the temperature at a given altitude"
   ]
  },
  {
   "cell_type": "code",
   "execution_count": 2,
   "id": "091b410a",
   "metadata": {},
   "outputs": [],
   "source": [
    "def temperature_at_altitude(altitude):\n",
    "    \"\"\"Returns the atmospheric temperature at a given altitude in meters above sea level.\n",
    "    \n",
    "    Parameters\n",
    "    ----------\n",
    "    altitude : float\n",
    "        Altitude in meters.\n",
    "\n",
    "    Notes\n",
    "    -----\n",
    "    Formula used: T = T0 - L * h\n",
    "    \n",
    "    \"\"\"\n",
    "    return T"
   ]
  },
  {
   "cell_type": "markdown",
   "id": "ea86db3d",
   "metadata": {},
   "source": [
    "## Computing the pressure at a given altitude"
   ]
  },
  {
   "cell_type": "code",
   "execution_count": 3,
   "id": "ca820836",
   "metadata": {},
   "outputs": [],
   "source": [
    "def pressure_at_altitude(altitude):\n",
    "    return P"
   ]
  },
  {
   "cell_type": "markdown",
   "id": "ac4f9200",
   "metadata": {},
   "source": [
    "## Computing the density at a given altitude"
   ]
  },
  {
   "cell_type": "code",
   "execution_count": null,
   "id": "5f04d952",
   "metadata": {},
   "outputs": [],
   "source": []
  },
  {
   "cell_type": "markdown",
   "id": "c596b6c8",
   "metadata": {},
   "source": [
    "## Computing all properties at a given altitude"
   ]
  },
  {
   "cell_type": "code",
   "execution_count": null,
   "id": "3822f439",
   "metadata": {},
   "outputs": [],
   "source": []
  },
  {
   "cell_type": "markdown",
   "id": "1e6b39cb",
   "metadata": {},
   "source": [
    "## Computing data for various altitudes\n",
    "\n",
    "It is enough to use a loop that iterates over various altitude values within the limits of the atmospheric model."
   ]
  },
  {
   "cell_type": "code",
   "execution_count": null,
   "id": "65641e8f",
   "metadata": {},
   "outputs": [],
   "source": []
  },
  {
   "cell_type": "markdown",
   "id": "fe0b0176",
   "metadata": {},
   "source": [
    "## Visualizing the properties VS altitude using Matplotlib"
   ]
  },
  {
   "cell_type": "code",
   "execution_count": null,
   "id": "fdaa6ac2",
   "metadata": {},
   "outputs": [],
   "source": []
  }
 ],
 "metadata": {
  "kernelspec": {
   "display_name": "Python 3 (ipykernel)",
   "language": "python",
   "name": "python3"
  },
  "language_info": {
   "codemirror_mode": {
    "name": "ipython",
    "version": 3
   },
   "file_extension": ".py",
   "mimetype": "text/x-python",
   "name": "python",
   "nbconvert_exporter": "python",
   "pygments_lexer": "ipython3",
   "version": "3.10.6"
  }
 },
 "nbformat": 4,
 "nbformat_minor": 5
}
