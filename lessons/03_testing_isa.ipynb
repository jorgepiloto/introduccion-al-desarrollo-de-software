{
 "cells": [
  {
   "cell_type": "markdown",
   "id": "6e74d874",
   "metadata": {},
   "source": [
    "# Testing the ISA atmospheric model\n",
    "\n",
    "Testing is a crucial aspect of software development as it helps to ensure that the software is functioning correctly and meets the desired requirements. Here are some reasons why testing is important:\n",
    "\n",
    "- **Identifying defects and bugs:** Testing allows developers to identify defects and bugs in the software, which can be fixed before the software is released to the end-users. This helps to improve the quality of the software and enhances the user experience.\n",
    "\n",
    "- **Ensuring functionality:** Testing ensures that the software performs all the intended functions correctly and that all features are working as expected.\n",
    "\n",
    "- **Improving reliability:** Testing helps to improve the reliability of the software by identifying potential issues that could cause the software to crash or malfunction.\n",
    "\n",
    "- **Reducing maintenance costs:** By identifying and fixing defects early in the development process, testing helps to reduce the costs of maintenance and support in the long run.\n",
    "\n",
    "- **Enhancing security:** Testing helps to identify potential security vulnerabilities and weaknesses in the software, which can be addressed before the software is released to the public.\n",
    "\n",
    "In summary, testing is important in software development as it helps to identify defects, ensure functionality, improve reliability, reduce maintenance costs, and enhance security."
   ]
  },
  {
   "cell_type": "markdown",
   "id": "ddb25abf",
   "metadata": {},
   "source": [
    "## Pytest: a testing framework for Python\n",
    "\n",
    "\n",
    "pytest is a testing framework for Python that allows developers to write simple and easy-to-read test cases using plain Python functions. It is one of the most popular testing frameworks for Python and is widely used by developers all over the world.\n",
    "\n",
    "pytest provides a number of features that make it a powerful and flexible testing tool. Some of its key features include:\n",
    "\n",
    "- **Simple syntax:** pytest uses simple and intuitive syntax for writing test cases, which makes it easy for developers to write and understand test cases.\n",
    "\n",
    "- **Fixtures:** pytest provides a powerful fixture system that allows developers to set up and tear down resources for test cases. Fixtures can be used to set up test data, perform database migrations, and more.\n",
    "\n",
    "- **Parameterization:** pytest allows developers to run the same test case with different input data using the parameterization feature. This allows for more thorough testing of the software.\n",
    "\n",
    "- **Test discovery:** pytest automatically discovers and runs all test cases in a given directory, making it easy to write and maintain large test suites.\n",
    "\n",
    "- **Plugins:** pytest provides a rich set of plugins that extend its functionality and make it easy to integrate with other tools and frameworks.\n",
    "\n",
    "Overall, pytest is a powerful and flexible testing framework that allows developers to write simple and easy-to-read test cases using plain Python functions. Its rich feature set and extensibility make it a popular choice for testing Python applications of all sizes and complexity.\n",
    "\n",
    "\n",
    "![Pytest logo](https://techcommunity.microsoft.com/t5/image/serverpage/image-id/367819iCFBD44DF79C0CBDA)"
   ]
  },
  {
   "cell_type": "code",
   "execution_count": 1,
   "id": "f79762e7",
   "metadata": {},
   "outputs": [],
   "source": [
    "# Load the functions we implemented in previous lesson\n",
    "%run isa.ipynb"
   ]
  },
  {
   "cell_type": "code",
   "execution_count": 2,
   "id": "f1142adb",
   "metadata": {},
   "outputs": [],
   "source": [
    "from numpy.testing import assert_allclose\n",
    "import pytest\n",
    "import ipytest\n",
    "\n",
    "ipytest.autoconfig()"
   ]
  },
  {
   "cell_type": "markdown",
   "id": "b52eb4ed",
   "metadata": {},
   "source": [
    "## Testing methods and functions"
   ]
  },
  {
   "cell_type": "code",
   "execution_count": 3,
   "id": "3d5d8efd",
   "metadata": {},
   "outputs": [
    {
     "name": "stdout",
     "output_type": "stream",
     "text": [
      "\u001b[1m======================================= test session starts ========================================\u001b[0m\n",
      "platform linux -- Python 3.10.6, pytest-7.3.1, pluggy-1.0.0 -- /usr/bin/python\n",
      "cachedir: .pytest_cache\n",
      "rootdir: /home/jmartinez/git/software-development-101/lessons\n",
      "plugins: anyio-3.6.2\n",
      "\u001b[1mcollecting ... \u001b[0mcollected 1 item\n",
      "\n",
      "t_5a79ff036eec4c3fb2378e4ce5d14a0d.py::test_add_two_numbers \u001b[32mPASSED\u001b[0m\u001b[32m                           [100%]\u001b[0m\n",
      "\n",
      "\u001b[32m======================================== \u001b[32m\u001b[1m1 passed\u001b[0m\u001b[32m in 0.00s\u001b[0m\u001b[32m =========================================\u001b[0m\n"
     ]
    }
   ],
   "source": [
    "%%ipytest -vv\n",
    "\n",
    "def add_two_numbers(a, b):\n",
    "    return a + b\n",
    "\n",
    "def test_add_two_numbers():\n",
    "    ans = add_two_numbers(2, 3)\n",
    "    assert_allclose(ans, 5)"
   ]
  },
  {
   "cell_type": "markdown",
   "id": "f06181b0",
   "metadata": {},
   "source": [
    "## Test properties at sea level"
   ]
  },
  {
   "cell_type": "code",
   "execution_count": null,
   "id": "f89f3460",
   "metadata": {},
   "outputs": [],
   "source": []
  },
  {
   "cell_type": "markdown",
   "id": "b2a1a7b1",
   "metadata": {},
   "source": [
    "## Testing properties at upper altitude limit"
   ]
  },
  {
   "cell_type": "code",
   "execution_count": null,
   "id": "0547bfc1",
   "metadata": {},
   "outputs": [],
   "source": []
  },
  {
   "cell_type": "markdown",
   "id": "0e9a4d05",
   "metadata": {},
   "source": [
    "## Testing properties at various altitudes\n",
    "\n",
    "Use the `pytest.mark.parametrize` option to test the function for a variety of altitudes."
   ]
  },
  {
   "cell_type": "code",
   "execution_count": null,
   "id": "cfe5af3b",
   "metadata": {},
   "outputs": [],
   "source": []
  },
  {
   "cell_type": "markdown",
   "id": "9d6d12d0",
   "metadata": {},
   "source": [
    "## Testing speed of sound\n",
    "\n",
    "Implement a function to compute the speed of sound at a given altitude. Create a test function to verify your implementation."
   ]
  },
  {
   "cell_type": "code",
   "execution_count": null,
   "id": "e6a4efdc",
   "metadata": {},
   "outputs": [],
   "source": []
  }
 ],
 "metadata": {
  "kernelspec": {
   "display_name": "Python 3 (ipykernel)",
   "language": "python",
   "name": "python3"
  },
  "language_info": {
   "codemirror_mode": {
    "name": "ipython",
    "version": 3
   },
   "file_extension": ".py",
   "mimetype": "text/x-python",
   "name": "python",
   "nbconvert_exporter": "python",
   "pygments_lexer": "ipython3",
   "version": "3.10.6"
  }
 },
 "nbformat": 4,
 "nbformat_minor": 5
}
