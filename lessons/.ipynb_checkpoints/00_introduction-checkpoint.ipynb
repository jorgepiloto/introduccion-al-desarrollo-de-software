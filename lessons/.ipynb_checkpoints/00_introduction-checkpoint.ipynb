{
 "cells": [
  {
   "cell_type": "markdown",
   "id": "2eadee57",
   "metadata": {},
   "source": [
    "# Python en la ingeniería\n",
    "\n",
    "Python es uno de los lenguajes de programación más utilizados en la ingeniería. Gracias a su sintaxis clara y sencilla, así como su amplia comunidad de usuarios y bibliotecas, Python se ha convertido en una herramienta indispensable para el análisis de datos, la simulación y el modelado en ingeniería."
   ]
  },
  {
   "cell_type": "markdown",
   "id": "12d1129f",
   "metadata": {},
   "source": [
    "## Empresas que utilizan Python\n",
    "\n",
    "Algunos ejemplos de empresas que utilizan Python en ingeniería son:\n",
    "\n",
    "* Ansys: utiliza Python para ofrecer una API con la que utilizar sus productos sin necesidad de pasar por una interfaz gráfica.\n",
    "\n",
    "* Google: utiliza Python en muchas de sus aplicaciones, desde el análisis de datos hasta el procesamiento del lenguaje natural.\n",
    "\n",
    "* NASA: utiliza Python para la simulación y el modelado de sistemas espaciales y para la gestión de datos científicos.\n",
    "\n",
    "* Tesla: utiliza Python para el control de sus sistemas de fabricación y robótica, así como para el análisis de datos de los vehículos.\n",
    "\n",
    "* Boeing: utiliza Python para el análisis de datos y la simulación de sistemas de aeronaves.\n",
    "\n",
    "* IBM: utiliza Python para el procesamiento de lenguaje natural, la inteligencia artificial y el análisis de datos.\n",
    "\n",
    "![El ecosistema de Python](https://jupytearth.org/_images/python-stack.png)"
   ]
  },
  {
   "cell_type": "markdown",
   "id": "f5b9ef4b",
   "metadata": {},
   "source": [
    "## Pros y contras de Python en el ambito cientifico\n",
    "\n",
    "**Pros de usar Python en ciencias:**\n",
    "\n",
    "- **Librerías especializadas**: Python cuenta con una amplia variedad de librerías y paquetes especializados en ciencias, como NumPy, Pandas, SciPy y Matplotlib, entre otros.\n",
    "\n",
    "- **Sintaxis clara y legible**: Python tiene una sintaxis clara y legible que facilita la comprensión del código y el desarrollo de soluciones.\n",
    "\n",
    "- **Fácilmente escalable**: Python es fácilmente escalable, lo que permite que sea utilizado tanto para proyectos pequeños como para grandes proyectos.\n",
    "\n",
    "- **Multiplataforma**: Python es multiplataforma y funciona en una amplia variedad de sistemas operativos.\n",
    "\n",
    "- **Gratuito y de código abierto**: Python es gratuito y de código abierto, lo que significa que los usuarios tienen acceso a su código fuente y pueden contribuir a su desarrollo.\n",
    "\n",
    "**Contras de usar Python en ciencias:**\n",
    "\n",
    "- **Rendimiento**: Python puede ser más lento que otros lenguajes de programación, lo que puede afectar su rendimiento en ciertas aplicaciones.\n",
    "\n",
    "- **Necesidad de dependencias**: Python a menudo requiere la instalación de múltiples dependencias y librerías, lo que puede ser complicado y llevar tiempo.\n",
    "\n",
    "- **No es tan adecuado para aplicaciones de tiempo real**: Python puede no ser adecuado para aplicaciones que requieren tiempos de respuesta extremadamente rápidos, como el procesamiento en tiempo real.\n"
   ]
  },
  {
   "cell_type": "markdown",
   "id": "9ddb84b1",
   "metadata": {},
   "source": [
    "## Python puede ser lento pero, ¿qué tan lento eres tú?\n",
    "\n",
    "\n",
    "---\n",
    "\n",
    "**Codigo escrito en C**\n",
    "```C\n",
    "#include<stdio.h>\n",
    "\n",
    "int fib(int n) {\n",
    "  if (n <= 1) {\n",
    "    return n;\n",
    "  }\n",
    "  return fib(n-1) + fib(n-2);\n",
    "}\n",
    "\n",
    "int main() {\n",
    "  int n = 10; // Change this to compute a different n-th fibonacci number\n",
    "  printf(\"The %d-th Fibonacci number is %d\\n\", n, fib(n));\n",
    "  return 0;\n",
    "}\n",
    "```\n",
    "\n",
    "---\n",
    "\n",
    "**Codigo escrito en Fortran**\n",
    "```fortran\n",
    "program fibonacci\n",
    "  integer :: n = 10, fib\n",
    "  fib = fibonacci(n)\n",
    "  print *, \"The\", n, \"-th Fibonacci number is\", fib\n",
    "contains\n",
    "  function fibonacci(n) result(fib)\n",
    "    integer :: n, fib\n",
    "    if (n <= 1) then\n",
    "      fib = n\n",
    "    else\n",
    "      fib = fibonacci(n-1) + fibonacci(n-2)\n",
    "    end if\n",
    "  end function fibonacci\n",
    "end program fibonacci\n",
    "```\n",
    "---\n",
    "\n",
    "**Codigo escrito en Python**\n",
    "```python\n",
    "def fibonacci(n):\n",
    "  if n <= 1:\n",
    "    return n\n",
    "  return fibonacci(n-1) + fibonacci(n-2)\n",
    "\n",
    "n = 10 # Change this to compute a different n-th fibonacci number\n",
    "print(f\"The {n}-th Fibonacci number is {fibonacci(n)}\")\n",
    "```"
   ]
  }
 ],
 "metadata": {
  "kernelspec": {
   "display_name": "Python 3 (ipykernel)",
   "language": "python",
   "name": "python3"
  },
  "language_info": {
   "codemirror_mode": {
    "name": "ipython",
    "version": 3
   },
   "file_extension": ".py",
   "mimetype": "text/x-python",
   "name": "python",
   "nbconvert_exporter": "python",
   "pygments_lexer": "ipython3",
   "version": "3.10.6"
  }
 },
 "nbformat": 4,
 "nbformat_minor": 5
}
