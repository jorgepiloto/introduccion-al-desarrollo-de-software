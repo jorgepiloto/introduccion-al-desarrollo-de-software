{
 "cells": [
  {
   "cell_type": "markdown",
   "id": "6be78733",
   "metadata": {},
   "source": [
    "# Improving the user experience by overriding class operators \n",
    "\n",
    "Dunder methods (short for \"double underscore\" methods) are special methods in Python that have double underscores both before and after their names. They are also known as \"magic methods\" or \"special methods\". Dunder methods are used to define how instances of a class behave in certain situations, such as when they are created, compared, or printed.\n",
    "\n",
    "Here are some common dunder methods in Python:\n",
    "\n",
    "- ``__init__(self, args...):`` This method is called when an object is created from a class, and is used to initialize its attributes.\n",
    "\n",
    "- ``__str__(self):`` is used to convert an object to a string. It is called when the str() function is called on the object, or when the object is printed.\n",
    "\n",
    "- ``__repr__(self):`` is used to represent the object in a string that can be used to recreate the object.\n",
    "\n",
    "- ``__eq__(self, other):`` This method is used to compare two objects for equality. It is called when the == operator is used on the objects.\n",
    "\n",
    "- ``__lt__(self, other):`` This method is used to compare two objects for less than. It is called when the < operator is used on the objects.\n",
    "\n",
    "> Refer to the official Python documentation for more methods: https://docs.python.org/3/reference/datamodel.html"
   ]
  },
  {
   "cell_type": "markdown",
   "id": "e88a837d",
   "metadata": {},
   "source": [
    "## Which account has more money?\n",
    "\n",
    "Implement a method in the account to identify if it has less, more or the same ammount of money when compared againts other account."
   ]
  },
  {
   "cell_type": "code",
   "execution_count": 1,
   "id": "7b818e06",
   "metadata": {},
   "outputs": [],
   "source": [
    "import random\n",
    "\n",
    "\n",
    "class Account:\n",
    "    \"\"\"Models a bank account.\"\"\"\n",
    "    \n",
    "    def __init__(self, owner, balance):\n",
    "        \"\"\"Initializes the account from and \"\"\"\n",
    "        self.identifier = random.randint(0, 1000)\n",
    "        self.owner = owner\n",
    "        self.balance = balance\n",
    "    \n",
    "    def deposit(self, amount):\n",
    "        \"\"\"Deposits a desired amount of money in the account.\n",
    "\n",
    "        Parameters\n",
    "        ----------\n",
    "        amount : float\n",
    "            Amount of money to be deposit.\n",
    "\n",
    "        Returns\n",
    "        -------\n",
    "        new_balance : float\n",
    "            The new balance.\n",
    "\n",
    "        \"\"\"\n",
    "        self.balance = self.balance + amount\n",
    "        return self.balance\n",
    "    \n",
    "    def withdraw(self, amount):\n",
    "        \"\"\"Deposits a desired amount of money in the account.\n",
    "\n",
    "        Parameters\n",
    "        ----------\n",
    "        amount : float\n",
    "            Amount of money to be deposit.\n",
    "\n",
    "        Returns\n",
    "        -------\n",
    "        new_balance : float\n",
    "            The new balance.\n",
    "\n",
    "        \"\"\"\n",
    "        self.balance = self.balance - amount\n",
    "        return self.balance\n",
    "    \n",
    "    def compare_balance_with_account(self, other_account):\n",
    "        if self.balance < other_account.balance:\n",
    "            print(f\"Account with ID: {other_account.identifier} has more money.\")\n",
    "        elif self.balance > other_account.balance:\n",
    "            print(f\"Account with ID: {other_account.identifier} has less money.\")\n",
    "        else:\n",
    "            print(\"Both accounts have the same balance.\")"
   ]
  },
  {
   "cell_type": "markdown",
   "id": "28a8bf3d",
   "metadata": {},
   "source": [
    "## Implement the `__str__` method and the `__repr__` method"
   ]
  },
  {
   "cell_type": "code",
   "execution_count": null,
   "id": "37dcedce",
   "metadata": {},
   "outputs": [],
   "source": []
  },
  {
   "cell_type": "markdown",
   "id": "3b1823fb",
   "metadata": {},
   "source": [
    "## Implement the `__lt__`, `__eq__`, `__gt__` methods"
   ]
  },
  {
   "cell_type": "markdown",
   "id": "d428b4ad",
   "metadata": {},
   "source": [
    "Let us create two fake accounts:"
   ]
  },
  {
   "cell_type": "code",
   "execution_count": null,
   "id": "ad3de153",
   "metadata": {},
   "outputs": [],
   "source": []
  },
  {
   "cell_type": "markdown",
   "id": "bb7b2a15",
   "metadata": {},
   "source": [
    "Let us compare previous accounts from the point of view of balance:"
   ]
  },
  {
   "cell_type": "code",
   "execution_count": null,
   "id": "0ac374ce",
   "metadata": {},
   "outputs": [],
   "source": []
  },
  {
   "cell_type": "markdown",
   "id": "7528db1b",
   "metadata": {},
   "source": [
    "## Implement the `__add__` method\n",
    "\n",
    "The goal of the method is to join two different accounts into a single one. This method needs to:\n",
    "\n",
    "* Verify that the owner is the same for both accounts\n",
    "* Return a new account with the total balance comming from both accounts"
   ]
  },
  {
   "cell_type": "code",
   "execution_count": null,
   "id": "4f3e4815",
   "metadata": {},
   "outputs": [],
   "source": []
  }
 ],
 "metadata": {
  "kernelspec": {
   "display_name": "Python 3 (ipykernel)",
   "language": "python",
   "name": "python3"
  },
  "language_info": {
   "codemirror_mode": {
    "name": "ipython",
    "version": 3
   },
   "file_extension": ".py",
   "mimetype": "text/x-python",
   "name": "python",
   "nbconvert_exporter": "python",
   "pygments_lexer": "ipython3",
   "version": "3.10.6"
  }
 },
 "nbformat": 4,
 "nbformat_minor": 5
}
