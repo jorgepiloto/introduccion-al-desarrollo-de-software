{
 "cells": [
  {
   "cell_type": "markdown",
   "id": "af5b2193",
   "metadata": {},
   "source": [
    "# Introducción a la sintaxis de Python\n",
    "\n",
    "Python es un lenguaje de programación interpretado y de alto nivel que ha ganado una inmensa popularidad en los últimos años. Es un lenguaje versátil que se puede utilizar para una amplia gama de aplicaciones, incluyendo el desarrollo web, el análisis de datos, el aprendizaje automático y más. La popularidad de Python se debe en parte a su sintaxis clara y concisa, que facilita la lectura y escritura de código."
   ]
  },
  {
   "cell_type": "markdown",
   "id": "da683b15",
   "metadata": {},
   "source": [
    "> La documentación de un proyecto te permite saber cómo funciona y se utiliza. Consulta siempre las fuentes oficiales: https://www.python.org\n",
    "\n",
    "![Logo de Python](https://www.python.org/static/img/python-logo.png)"
   ]
  },
  {
   "cell_type": "markdown",
   "id": "4acdad37",
   "metadata": {},
   "source": [
    "## Sintaxis básica\n",
    "\n",
    "\n",
    "```python\n",
    "# Esto es un comentario\n",
    "\n",
    "# Asignar un valor a una variable\n",
    "x = 5\n",
    "\n",
    "# Imprimir el valor de una variable\n",
    "print(x)\n",
    "\n",
    "# Estructura condicional\n",
    "if x > 0:\n",
    "    print(\"x es positivo\")\n",
    "else:\n",
    "    print(\"x es negativo o cero\")\n",
    "\n",
    "# Bucle for\n",
    "for i in range(10):\n",
    "    print(i)\n",
    "\n",
    "# Definición de función\n",
    "def sumar_numeros(a, b):\n",
    "    return a + b\n",
    "\n",
    "# Llamada de función\n",
    "suma = sumar_numeros(2, 3)\n",
    "print(suma)\n",
    "```\n",
    "\n",
    "Como se puede ver, Python utiliza la indentación para definir bloques de código, como bucles y estructuras condicionales. El uso del espacio en blanco para definir bloques de código es una característica única de Python, y a veces puede llevar un poco de tiempo acostumbrarse para los programadores que están acostumbrados a otros lenguajes."
   ]
  },
  {
   "cell_type": "markdown",
   "id": "113548bc",
   "metadata": {},
   "source": [
    "## Tipos de datos\n",
    "\n",
    "Tipos de datos\n",
    "\n",
    "Python tiene varios tipos de datos integrados, incluyendo:\n",
    "\n",
    "    Enteros (int)\n",
    "    Números de punto flotante (float)\n",
    "    Cadenas (str)\n",
    "    Booleanos (bool)\n",
    "    Listas (list)\n",
    "    Tuplas (tuple)\n",
    "    Diccionarios (dict)\n",
    "\n",
    "Aquí hay algunos ejemplos de cómo utilizar estos tipos de datos:\n",
    "\n",
    "```python\n",
    "# Entero\n",
    "x = 5\n",
    "\n",
    "# Número de punto flotante\n",
    "y = 3.14\n",
    "\n",
    "# Cadena\n",
    "nombre = \"Alice\"\n",
    "\n",
    "# Booleano\n",
    "es_estudiante = True\n",
    "\n",
    "# Lista\n",
    "frutas = [\"manzana\", \"plátano\", \"cereza\"]\n",
    "frutas.append(\"pera\")\n",
    "\n",
    "# Tupla\n",
    "persona = (\"Alice\", 25, \"Estudiante\")\n",
    "\n",
    "# Diccionario\n",
    "persona = {\"nombre\": \"Alice\", \"edad\": 25, \"ocupación\": \"Estudiante\"}\n",
    "persona[\"nombre\"]\n",
    "```"
   ]
  },
  {
   "cell_type": "markdown",
   "id": "33549ce3",
   "metadata": {},
   "source": [
    "## Conclusión\n",
    "\n",
    "Python es un lenguaje de programación poderoso y fácil de aprender que se utiliza en una amplia gama de aplicaciones. Su sintaxis clara y concisa, junto con sus tipos de datos y funciones integrados, lo convierten en una excelente opción tanto para principiantes como para programadores experimentados."
   ]
  }
 ],
 "metadata": {
  "kernelspec": {
   "display_name": "Python 3 (ipykernel)",
   "language": "python",
   "name": "python3"
  },
  "language_info": {
   "codemirror_mode": {
    "name": "ipython",
    "version": 3
   },
   "file_extension": ".py",
   "mimetype": "text/x-python",
   "name": "python",
   "nbconvert_exporter": "python",
   "pygments_lexer": "ipython3",
   "version": "3.10.6"
  }
 },
 "nbformat": 4,
 "nbformat_minor": 5
}
