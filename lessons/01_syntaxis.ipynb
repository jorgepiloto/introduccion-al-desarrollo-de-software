{
 "cells": [
  {
   "cell_type": "markdown",
   "id": "af5b2193",
   "metadata": {},
   "source": [
    "# Introducción a la sintaxis de Python\n",
    "\n",
    "Python es un lenguaje de programación interpretado y de alto nivel que ha ganado una inmensa popularidad en los últimos años. Es un lenguaje versátil que se puede utilizar para una amplia gama de aplicaciones, incluyendo el desarrollo web, el análisis de datos, el aprendizaje automático y más. La popularidad de Python se debe en parte a su sintaxis clara y concisa, que facilita la lectura y escritura de código."
   ]
  },
  {
   "cell_type": "markdown",
   "id": "da683b15",
   "metadata": {},
   "source": [
    "> Project documentation allows you to understand how it works and how to use it. Always consult official sources: https://www.python.org\n",
    "\n",
    "![Python logo](https://www.python.org/static/img/python-logo.png)"
   ]
  },
  {
   "cell_type": "markdown",
   "id": "4acdad37",
   "metadata": {},
   "source": [
    "## Basic syntax\n",
    "\n",
    "\n",
    "```python\n",
    "# This is a commnet\n",
    "\n",
    "# Declare a variable\n",
    "x = 5\n",
    "\n",
    "# Print the value of the variable\n",
    "print(x)\n",
    "\n",
    "# A conditional\n",
    "if x > 0:\n",
    "    print(\"x is positive\")\n",
    "else:\n",
    "    print(\"x is negative or zero\")\n",
    "\n",
    "# A for loop\n",
    "for i in range(10):\n",
    "    print(i)\n",
    "\n",
    "# Declare a function\n",
    "def add_numbers(a, b):\n",
    "    return a + b\n",
    "\n",
    "# Calling a function\n",
    "ans = add_numbers(2, 3)\n",
    "print(ans)\n",
    "```\n",
    "\n",
    "As you can see, Python uses indentation to define code blocks, such as loops and conditional statements. The use of whitespace to define code blocks is a unique feature of Python, and it may take some time for programmers who are used to other languages to get used to it."
   ]
  },
  {
   "cell_type": "markdown",
   "id": "113548bc",
   "metadata": {},
   "source": [
    "## Data Types\n",
    "\n",
    "Python has several built-in data types, including:\n",
    "\n",
    "* Integers (int)\n",
    "* Floating-point numbers (float)\n",
    "* Strings (str)\n",
    "* Booleans (bool)\n",
    "* Lists (list)\n",
    "* Tuples (tuple)\n",
    "* Dictionaries (dict)\n",
    "\n",
    "Here are some examples of how to use these data types:\n",
    "\n",
    "```python\n",
    "# Integer\n",
    "x = 5\n",
    "\n",
    "# Floating-point number\n",
    "y = 3.14\n",
    "\n",
    "# String\n",
    "name = \"Alice\"\n",
    "\n",
    "# Boolean\n",
    "is_student = True\n",
    "\n",
    "# List\n",
    "fruit_list = [\"apple\", \"banana\", \"cherry\"]\n",
    "fruit_list.append(\"pear\")\n",
    "\n",
    "# Tuple\n",
    "person = (\"Alice\", 25, \"student\")\n",
    "\n",
    "# Dictionary\n",
    "person = {\"name\": \"Alice\", \"age\": 25, \"job\": \"student\"}\n",
    "person[\"name\"]\n",
    "```"
   ]
  },
  {
   "cell_type": "markdown",
   "id": "ed3f4c97",
   "metadata": {},
   "source": [
    "## Practice here!"
   ]
  },
  {
   "cell_type": "markdown",
   "id": "7953f5c6",
   "metadata": {},
   "source": [
    "#### Create a function that computes the value for ax² + bx + c. Allow the user to declare the coefficients."
   ]
  },
  {
   "cell_type": "code",
   "execution_count": null,
   "id": "92a0d272",
   "metadata": {},
   "outputs": [],
   "source": []
  },
  {
   "cell_type": "markdown",
   "id": "0baf3098",
   "metadata": {},
   "source": [
    "#### Compute the y values associated for x ranging between [-4, +4] with a=1, b=-1 an c=-2"
   ]
  },
  {
   "cell_type": "code",
   "execution_count": null,
   "id": "72b7bcf5",
   "metadata": {},
   "outputs": [],
   "source": []
  },
  {
   "cell_type": "markdown",
   "id": "62f6ea2a",
   "metadata": {},
   "source": [
    "#### Print the values"
   ]
  },
  {
   "cell_type": "code",
   "execution_count": null,
   "id": "a4616bfb",
   "metadata": {},
   "outputs": [],
   "source": []
  },
  {
   "cell_type": "markdown",
   "id": "33549ce3",
   "metadata": {},
   "source": [
    "## Conclusion\n",
    "\n",
    "Python is a powerful and easy-to-learn programming language used in a wide range of applications. Its clear and concise syntax, along with its built-in data types and functions, make it an excellent choice for both beginners and experienced programmers."
   ]
  }
 ],
 "metadata": {
  "kernelspec": {
   "display_name": "Python 3 (ipykernel)",
   "language": "python",
   "name": "python3"
  },
  "language_info": {
   "codemirror_mode": {
    "name": "ipython",
    "version": 3
   },
   "file_extension": ".py",
   "mimetype": "text/x-python",
   "name": "python",
   "nbconvert_exporter": "python",
   "pygments_lexer": "ipython3",
   "version": "3.10.6"
  }
 },
 "nbformat": 4,
 "nbformat_minor": 5
}
