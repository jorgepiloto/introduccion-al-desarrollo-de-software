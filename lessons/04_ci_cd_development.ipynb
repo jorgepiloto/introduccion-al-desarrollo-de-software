{
 "cells": [
  {
   "cell_type": "markdown",
   "id": "53219c97",
   "metadata": {},
   "source": [
    "# Continuous integration and development"
   ]
  },
  {
   "cell_type": "markdown",
   "id": "f361b6a3",
   "metadata": {},
   "source": [
    "Continuous Integration (CI) is a software development practice that involves continuously merging code changes into a shared repository and running automated tests to detect and fix any errors as early as possible. It is an essential aspect of modern software development and plays a critical role in ensuring the quality, reliability, and stability of software products. In this response, I will discuss the importance of continuous integration and the benefits it offers to software development teams.\n",
    "\n",
    "- **Early detection of bugs and errors:** By integrating and testing code changes continuously, developers can identify and fix bugs and errors early in the development process. This allows teams to catch problems before they become more challenging and expensive to fix, reducing the overall cost of software development.\n",
    "\n",
    "- **Faster time to market:** Continuous integration allows teams to release new software versions more quickly and with greater confidence. By automating the build and testing processes, teams can reduce the time required for manual testing and ensure that the software is always in a deployable state.\n",
    "\n",
    "- **Increased collaboration:** Continuous integration encourages collaboration between developers, testers, and other stakeholders in the software development process. By integrating code changes frequently, teams can work together more effectively, identify and resolve issues quickly, and ensure that everyone is working towards the same goals.\n",
    "\n",
    "- **Improved software quality:** Continuous integration helps improve software quality by ensuring that code changes are tested thoroughly before they are integrated into the main codebase. This reduces the risk of introducing new bugs or breaking existing functionality.\n",
    "\n",
    "- **Reduced risk:** By catching bugs and errors early in the development process, continuous integration helps reduce the risk of software failures in production. This can help minimize the impact of any issues that do arise and ensure that software products are more reliable and stable.\n",
    "\n",
    "In conclusion, continuous integration is a critical practice for modern software development teams. By integrating code changes frequently, testing them rigorously, and collaborating effectively, teams can improve software quality, reduce risk, and accelerate time to market. Continuous integration is an essential part of any effective software development process and is a must-have for any team that wants to build reliable and high-quality software products.\n",
    "\n",
    "![CI CD schema](https://encrypted-tbn0.gstatic.com/images?q=tbn:ANd9GcRAABUoTg0hRIRysVXsNZg21ojLCOSsljUElA&usqp=CAU)"
   ]
  },
  {
   "cell_type": "markdown",
   "id": "8c28378a",
   "metadata": {},
   "source": [
    "## GitHub actions\n",
    "\n",
    "\n",
    "GitHub Actions is an automation tool offered by GitHub that allows developers to automate their workflows directly within their repositories. It is a powerful tool that helps developers automate their software development processes, including building, testing, and deploying code. GitHub Actions is a platform for building CI/CD (Continuous Integration and Continuous Deployment) pipelines, automating repetitive tasks, and executing custom scripts on specific events or triggers.\n",
    "\n",
    "\n",
    "### Example: development release\n",
    "![Pipelines example](../_static/pipelines.png)\n",
    "\n",
    "### Example: stable release\n",
    "![Pipelines stable release](../_static/pipelines_stable.png)"
   ]
  },
  {
   "cell_type": "markdown",
   "id": "b3b4e055",
   "metadata": {},
   "source": [
    "## Reusable workflows\n",
    "\n",
    "Because some workflows are very popular, platforms allow to build so-called \"reusable\" workflows. These allow certain level of customization while ensure a common CI/CD strategy."
   ]
  },
  {
   "cell_type": "markdown",
   "id": "b378b93e",
   "metadata": {},
   "source": [
    "### Example: pyansys/actions\n",
    "\n",
    "\n",
    "> The source code of PyAnsys actions: https://github.com/pyansys/actions"
   ]
  }
 ],
 "metadata": {
  "kernelspec": {
   "display_name": "Python 3 (ipykernel)",
   "language": "python",
   "name": "python3"
  },
  "language_info": {
   "codemirror_mode": {
    "name": "ipython",
    "version": 3
   },
   "file_extension": ".py",
   "mimetype": "text/x-python",
   "name": "python",
   "nbconvert_exporter": "python",
   "pygments_lexer": "ipython3",
   "version": "3.10.6"
  }
 },
 "nbformat": 4,
 "nbformat_minor": 5
}
