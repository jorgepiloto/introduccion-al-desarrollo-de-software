{
 "cells": [
  {
   "cell_type": "markdown",
   "id": "6a51f149",
   "metadata": {},
   "source": [
    "# Improving the user experience by overriding class operators \n",
    "\n",
    "Dunder methods (short for \"double underscore\" methods) are special methods in Python that have double underscores both before and after their names. They are also known as \"magic methods\" or \"special methods\". Dunder methods are used to define how instances of a class behave in certain situations, such as when they are created, compared, or printed.\n",
    "\n",
    "Here are some common dunder methods in Python:\n",
    "\n",
    "- ``__init__(self, args...):`` This method is called when an object is created from a class, and is used to initialize its attributes.\n",
    "\n",
    "- ``__str__(self):`` is used to convert an object to a string. It is called when the str() function is called on the object, or when the object is printed.\n",
    "\n",
    "- ``__repr__(self):`` is used to represent the object in a string that can be used to recreate the object.\n",
    "\n",
    "- ``__eq__(self, other):`` This method is used to compare two objects for equality. It is called when the == operator is used on the objects.\n",
    "\n",
    "- ``__lt__(self, other):`` This method is used to compare two objects for less than. It is called when the < operator is used on the objects.\n",
    "\n",
    "> Refer to the official Python documentation for more methods: https://docs.python.org/3/reference/datamodel.html"
   ]
  },
  {
   "cell_type": "markdown",
   "id": "9cde92b2",
   "metadata": {},
   "source": [
    "## Which account has more money?\n",
    "\n",
    "Implement a method in the account to identify if it has less, more or the same ammount of money when compared againts other account."
   ]
  },
  {
   "cell_type": "code",
   "execution_count": 1,
   "id": "bad5085e",
   "metadata": {},
   "outputs": [],
   "source": [
    "import random\n",
    "\n",
    "\n",
    "class Account:\n",
    "    \"\"\"Models a bank account.\"\"\"\n",
    "    \n",
    "    def __init__(self, owner, balance):\n",
    "        \"\"\"Initializes the account from and \"\"\"\n",
    "        self.identifier = random.randint(0, 1000)\n",
    "        self.owner = owner\n",
    "        self.balance = balance\n",
    "        \n",
    "    def __str__(self):\n",
    "        \"\"\"Returns a string representing the account.\"\"\"\n",
    "        return f\"{self.owner} has ${self.balance} in account with ID {self.identifier}\"\n",
    "    \n",
    "    def __repr__(self):\n",
    "        \"\"\"Returns a string representing the account.\"\"\"\n",
    "        return str(self)\n",
    "    \n",
    "    def __add__(self, other_account):\n",
    "        if self.owner != other_account.owner:\n",
    "            raise ValueError(\"Can't join accounts with different owners.\")\n",
    "        return Account(other_account.owner, self.balance + other_account.balance)\n",
    "    \n",
    "    def __lt__(self, other_account):\n",
    "        \"\"\"Compare if current account has less money than other account.\"\"\"\n",
    "        return self.balance < other_account.balance\n",
    "    \n",
    "    def __eq__(self, other_account):\n",
    "        \"\"\"Compare if current account has the same money than other account.\"\"\"\n",
    "        return self.balance == other_account.balance\n",
    "    \n",
    "    def __gt__(self, other_account):\n",
    "        \"\"\"Compare if current account has more money than other account.\"\"\"\n",
    "        return self.balance > other_account.balance    \n",
    "    \n",
    "    def deposit(self, amount):\n",
    "        \"\"\"Deposits a desired amount of money in the account.\n",
    "\n",
    "        Parameters\n",
    "        ----------\n",
    "        amount : float\n",
    "            Amount of money to be deposit.\n",
    "\n",
    "        Returns\n",
    "        -------\n",
    "        new_balance : float\n",
    "            The new balance.\n",
    "\n",
    "        \"\"\"\n",
    "        self.balance = self.balance + amount\n",
    "        return self.balance\n",
    "    \n",
    "    def withdraw(self, amount):\n",
    "        \"\"\"Deposits a desired amount of money in the account.\n",
    "\n",
    "        Parameters\n",
    "        ----------\n",
    "        amount : float\n",
    "            Amount of money to be deposit.\n",
    "\n",
    "        Returns\n",
    "        -------\n",
    "        new_balance : float\n",
    "            The new balance.\n",
    "\n",
    "        \"\"\"\n",
    "        self.balance = self.balance - amount\n",
    "        return self.balance\n",
    "    \n",
    "    def compare_balance_with_account(self, other_account):\n",
    "        if self.balance < other_account.balance:\n",
    "            print(f\"Account with ID: {other_account.identifier} has more money.\")\n",
    "        elif self.balance > other_account.balance:\n",
    "            print(f\"Account with ID: {other_account.identifier} has less money.\")\n",
    "        else:\n",
    "            print(\"Both accounts have the same balance.\")"
   ]
  },
  {
   "cell_type": "markdown",
   "id": "00b59ab4",
   "metadata": {},
   "source": [
    "## Implement the `__str__` method and the `__repr__` method"
   ]
  },
  {
   "cell_type": "code",
   "execution_count": 2,
   "id": "4741a77d",
   "metadata": {},
   "outputs": [
    {
     "name": "stdout",
     "output_type": "stream",
     "text": [
      "Jorge has $10000 in account with ID 441\n"
     ]
    }
   ],
   "source": [
    "my_account = Account(\"Jorge\", 10_000)\n",
    "print(my_account)"
   ]
  },
  {
   "cell_type": "markdown",
   "id": "66ebea6d",
   "metadata": {},
   "source": [
    "## Implement the `__lt__`, `__eq__`, `__gt__` methods"
   ]
  },
  {
   "cell_type": "markdown",
   "id": "090474cf",
   "metadata": {},
   "source": [
    "Let us create two fake accounts:"
   ]
  },
  {
   "cell_type": "code",
   "execution_count": 3,
   "id": "daa920f8",
   "metadata": {},
   "outputs": [
    {
     "name": "stdout",
     "output_type": "stream",
     "text": [
      "My account has ID: 27\n",
      "Government has ID: 364\n"
     ]
    }
   ],
   "source": [
    "my_account = Account(\"Jorge\", 10_000)\n",
    "government_account = Account(\"Government\", 10_000_000)\n",
    "\n",
    "print(f\"My account has ID: {my_account.identifier}\")\n",
    "print(f\"Government has ID: {government_account.identifier}\")"
   ]
  },
  {
   "cell_type": "markdown",
   "id": "25dc90e0",
   "metadata": {},
   "source": [
    "Let us compare previous accounts from the point of view of balance:"
   ]
  },
  {
   "cell_type": "code",
   "execution_count": 4,
   "id": "6c38a464",
   "metadata": {},
   "outputs": [
    {
     "data": {
      "text/plain": [
       "True"
      ]
     },
     "execution_count": 4,
     "metadata": {},
     "output_type": "execute_result"
    }
   ],
   "source": [
    "my_account < government_account"
   ]
  },
  {
   "cell_type": "code",
   "execution_count": 5,
   "id": "bc51fb0b",
   "metadata": {},
   "outputs": [
    {
     "data": {
      "text/plain": [
       "False"
      ]
     },
     "execution_count": 5,
     "metadata": {},
     "output_type": "execute_result"
    }
   ],
   "source": [
    "my_account == government_account"
   ]
  },
  {
   "cell_type": "code",
   "execution_count": 6,
   "id": "07e6fd0f",
   "metadata": {},
   "outputs": [
    {
     "data": {
      "text/plain": [
       "False"
      ]
     },
     "execution_count": 6,
     "metadata": {},
     "output_type": "execute_result"
    }
   ],
   "source": [
    "my_account > government_account"
   ]
  },
  {
   "cell_type": "markdown",
   "id": "63a5f59b",
   "metadata": {},
   "source": [
    "## Implement the `__add__` method\n",
    "\n",
    "The goal of the method is to join two different accounts into a single one. This method needs to:\n",
    "\n",
    "* Verify that the owner is the same for both accounts\n",
    "* Return a new account with the total balance comming from both accounts"
   ]
  },
  {
   "cell_type": "code",
   "execution_count": 7,
   "id": "57ac29b0",
   "metadata": {},
   "outputs": [
    {
     "name": "stdout",
     "output_type": "stream",
     "text": [
      "Jorge has $11000 in account with ID 649\n"
     ]
    }
   ],
   "source": [
    "savings_account = Account(\"Jorge\", 10_000)\n",
    "daily_account = Account(\"Jorge\", 1_000)\n",
    "\n",
    "new_account = savings_account + daily_account\n",
    "print(new_account)"
   ]
  }
 ],
 "metadata": {
  "kernelspec": {
   "display_name": "Python 3 (ipykernel)",
   "language": "python",
   "name": "python3"
  },
  "language_info": {
   "codemirror_mode": {
    "name": "ipython",
    "version": 3
   },
   "file_extension": ".py",
   "mimetype": "text/x-python",
   "name": "python",
   "nbconvert_exporter": "python",
   "pygments_lexer": "ipython3",
   "version": "3.10.6"
  }
 },
 "nbformat": 4,
 "nbformat_minor": 5
}
