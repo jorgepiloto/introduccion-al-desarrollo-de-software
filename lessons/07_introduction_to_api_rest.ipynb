{
 "cells": [
  {
   "cell_type": "markdown",
   "id": "1f3c7057",
   "metadata": {},
   "source": [
    "# Introduction to API Rest\n",
    "\n",
    "REST (Representational State Transfer) is an architectural style that defines a set of constraints for building web services. RESTful APIs (Application Programming Interfaces) are web services that follow these constraints.\n",
    "\n",
    "A RESTful API is designed to provide a uniform interface for accessing and manipulating resources over the web. Resources are identified by URIs (Uniform Resource Identifiers), and each URI represents a specific piece of data. The API supports a set of standard HTTP methods (GET, POST, PUT, DELETE) that can be used to perform operations on these resources.\n",
    "\n",
    "In a RESTful API, the client and server communicate using HTTP (Hypertext Transfer Protocol), a well-known protocol for transferring data over the web. The client sends requests to the server, and the server responds with HTTP status codes and messages.\n",
    "\n",
    "The key features of a RESTful API are:\n",
    "\n",
    "- **Stateless:** The server does not store any client context between requests. Each request contains all the information necessary to process it.\n",
    "\n",
    "- **Client-Server architecture:** The client and server are independent of each other and can evolve separately. The client is responsible for the user interface, and the server is responsible for data storage and processing.\n",
    "\n",
    "- **Uniform interface:** Resources are identified by URIs, and operations are performed using standard HTTP methods (GET, POST, PUT, DELETE). The API uses standard media types (e.g. JSON, XML) to represent data.\n",
    "\n",
    "- **Cacheable:** Responses can be cached on the client or intermediaries to improve performance.\n",
    "\n",
    "- **Layered system:** The API can be deployed on multiple layers, such as load balancers, proxies, or firewalls, without affecting the client-server relationship.\n",
    "\n",
    "RESTful APIs are widely used for building web services that can be consumed by other applications or systems. They are scalable, flexible, and can be used with any programming language or platform that supports HTTP."
   ]
  },
  {
   "cell_type": "markdown",
   "id": "8b188f96",
   "metadata": {},
   "source": [
    "## HTTP basic verbs\n",
    "\n",
    "HTTP (Hypertext Transfer Protocol) verbs are used to define the actions that can be performed on a resource in a RESTful API. In the case of an API for creating tasks, the following HTTP verbs would typically be used:\n",
    "\n",
    "- **GET:** This verb is used to retrieve information about a resource. In the case of a task API, a GET request might be used to retrieve a list of tasks, or to retrieve information about a specific task.\n",
    "\n",
    "- **POST:** This verb is used to create a new resource. In the case of a task API, a POST request might be used to create a new task.\n",
    "\n",
    "- **PUT:** This verb is used to update an existing resource. In the case of a task API, a PUT request might be used to update the details of a task.\n",
    "\n",
    "- **DELETE:** This verb is used to delete a resource. In the case of a task API, a DELETE request might be used to delete a task.\n",
    "\n",
    "Here's an example of how these verbs might be used in a task API:\n",
    "\n",
    "- **GET** /tasks: This request would retrieve a list of all tasks in the system.\n",
    "\n",
    "- **GET** /tasks/{id}: This request would retrieve information about a specific task, identified by its ID.\n",
    "\n",
    "- **POST** /tasks: This request would create a new task in the system. The details of the new task would be included in the request body.\n",
    "\n",
    "- **PUT** /tasks/{id}: This request would update the details of an existing task, identified by its ID. The updated details would be included in the request body.\n",
    "\n",
    "- **DELETE** /tasks/{id}: This request would delete an existing task, identified by its ID.\n",
    "\n",
    "By using these HTTP verbs, a RESTful API can provide a standardized interface for performing CRUD (Create, Read, Update, Delete) operations on resources. This makes it easier for developers to work with the API, and ensures that the API is consistent and predictable.\n",
    "\n",
    "![Basic verbs](https://www.kennethlange.com/wp-content/uploads/2018/10/task_api.png)"
   ]
  },
  {
   "cell_type": "markdown",
   "id": "b93269fd",
   "metadata": {},
   "source": [
    "## Practice with the banking system application\n",
    "\n",
    "Here is a small application written in [Flask](https://flask.palletsprojects.com/en/2.2.x/) for emulating the API of a banking system.\n",
    "\n",
    "> Banking application: https://github.com/jorgepiloto/banking-system-api\n",
    "\n",
    "Installation is as follows:\n",
    "\n",
    "1. Clone the repository\n",
    "2. Create a new Python virtual environment and activate it:\n",
    "\n",
    "| **Step** | **Linux**                     | **Windows CMD**                | **Powershell**                 |\n",
    "|:--------:|:-----------------------------:|:------------------------------:|:------------------------------:|\n",
    "|  Create  | ``python -m venv .venv``      | ``py -m venv .venv``           | ``py -m venv .venv``           |\n",
    "| Activate | ``source .venv/bin/activate`` | ``.venv\\Scripts\\activate.bat`` | ``.venv\\Scripts\\Activate.ps1`` |\n",
    "\n",
    "3. Install the requirements: `python -m pip install -r requirements.txt`\n",
    "4. Run the application: `flask --app app run`"
   ]
  },
  {
   "cell_type": "markdown",
   "id": "278dc43e",
   "metadata": {},
   "source": [
    "## Basic commands\n",
    "\n",
    "#### Create a new account\n",
    "curl -X POST -H \"Content-Type: application/json\" -d '{\"owner\": \"Alice\", \"balance\": 100.0}' http://localhost:5000/accounts\n",
    "\n",
    "#### Check account status\n",
    "curl -X GET http://localhost:5000/accounts/1\n",
    "\n",
    "#### Deposit amount in account\n",
    "curl -X PUT -H \"Content-Type: application/json\" -d '{\"amount\": 50.0}' http://localhost:5000/accounts/1/deposit\n",
    "\n",
    "#### Withdraw amount in account\n",
    "curl -X PUT -H \"Content-Type: application/json\" -d '{\"amount\": 20.0}' http://localhost:5000/accounts/1/withdraw"
   ]
  }
 ],
 "metadata": {
  "kernelspec": {
   "display_name": "Python 3 (ipykernel)",
   "language": "python",
   "name": "python3"
  },
  "language_info": {
   "codemirror_mode": {
    "name": "ipython",
    "version": 3
   },
   "file_extension": ".py",
   "mimetype": "text/x-python",
   "name": "python",
   "nbconvert_exporter": "python",
   "pygments_lexer": "ipython3",
   "version": "3.10.6"
  }
 },
 "nbformat": 4,
 "nbformat_minor": 5
}
