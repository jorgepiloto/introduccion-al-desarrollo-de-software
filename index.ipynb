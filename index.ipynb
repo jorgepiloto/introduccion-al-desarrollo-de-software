{
 "cells": [
  {
   "cell_type": "markdown",
   "id": "25bc8106",
   "metadata": {},
   "source": [
    "# Introduction\n",
    "\n",
    "The course consists of two sessions, where topics ranging from basic Python syntax to the creation of APIs and microservices will be addressed.\n",
    "\n",
    "\n",
    "All resources can be found at https://github.com/jorgepiloto/software-development-101. The course is licensed under the GNU General Public License v3.0, see https://github.com/jorgepiloto/software-development-101/blob/main/LICENSE.\n",
    "\n",
    "\n",
    "> Learning takes time. Motivation is not enough. Commitment is."
   ]
  },
  {
   "cell_type": "markdown",
   "id": "fca05841",
   "metadata": {},
   "source": [
    "## Whoami\n",
    "\n",
    "I am [Jorge Martínez](https://jorgemartinez.space), an aerospace engineer from [Universidad Carlos III de Madrid](https://www.uc3m.es/Home) and a software developer. I currently work at [Ansys](https://www.ansys.com) as part of the [PyAnsys](https://docs.pyansys.com) team.\n",
    "\n",
    "In my free time, I maintain [poliastro](https://github.com/poliastro/polistro), a Python library focused on astrodynamics and orbital mechanics.\n",
    "\n",
    "![Me giving a lightning talk at SciPyConf 2022](_static/photo_jmg.jpg)"
   ]
  },
  {
   "cell_type": "markdown",
   "id": "22943087",
   "metadata": {},
   "source": [
    "## Syllabus\n",
    "\n",
    "The course is divided into two sessions of 2 hours each:\n",
    "\n",
    "- First session\n",
    "    * Python in engineering\n",
    "    * Python syntax\n",
    "    * Creating a calculator for the ISA model\n",
    "    * Testing the calculator\n",
    "\n",
    "- Second session\n",
    "    * Object-oriented programming\n",
    "    * Creating a class for a bank account\n",
    "    * Modifying object operators\n",
    "    * APIs and containers\n",
    "    * Creating an API for a bank."
   ]
  }
 ],
 "metadata": {
  "kernelspec": {
   "display_name": "Python 3 (ipykernel)",
   "language": "python",
   "name": "python3"
  },
  "language_info": {
   "codemirror_mode": {
    "name": "ipython",
    "version": 3
   },
   "file_extension": ".py",
   "mimetype": "text/x-python",
   "name": "python",
   "nbconvert_exporter": "python",
   "pygments_lexer": "ipython3",
   "version": "3.10.6"
  }
 },
 "nbformat": 4,
 "nbformat_minor": 5
}
