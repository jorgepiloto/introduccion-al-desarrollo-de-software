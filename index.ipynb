{
 "cells": [
  {
   "cell_type": "markdown",
   "id": "25bc8106",
   "metadata": {},
   "source": [
    "# Introducción\n",
    "\n",
    "El curso consta de dos sesiones, donde se abordarán temas que van desde la sintaxis básica de Python hasta la creación de APIs y microservicios.\n",
    "\n",
    "\n",
    "Todo los recursos pueden encontrarse en https://github.com/jorgepiloto/introduccion-al-desarrollo-de-software. El curso queda recogido bajo la licencia GNU General Public License v3.0, ver https://github.com/jorgepiloto/introduccion-al-desarrollo-de-software/blob/main/LICENSE.\n",
    "\n",
    "\n",
    "> Aprender lleva su tiempo. Tener motivación no es suficiente. Hay que tener mucha disciplina para ser constante."
   ]
  },
  {
   "cell_type": "markdown",
   "id": "fca05841",
   "metadata": {},
   "source": [
    "## Whoami\n",
    "\n",
    "Soy [Jorge Martínez](https://jorgemartinez.space), ingeniero aeroespacial por la [Universidad Carlos III de Madrid](https://www.uc3m.es/Home) y desarrollador de sotware. Actualmente trabajo en [Ansys](https://www.ansys.com) dentro del equipo de [PyAnsys](https://docs.pyansys.com).\n",
    "\n",
    "En mi tiempo libre mantengo una librería escrita en Python llamada [poliastro](https://github.com/poliastro/polistro) enfocada en la astrodinámica y la mecánica orbital.\n",
    "\n",
    "![Me giving a lightning talk at SciPyConf 2022](_static/photo_jmg.jpg)"
   ]
  },
  {
   "cell_type": "markdown",
   "id": "22943087",
   "metadata": {},
   "source": [
    "## Temario\n",
    "\n",
    "El curso está dividido en dos sesiones de 2 horas cada una:\n",
    "\n",
    "- Primera sesión\n",
    "  * Python en la ingeniería\n",
    "  * La sintaxis de Python\n",
    "  * Creando una calculadora para el modelo ISA\n",
    "  * Testeando la calculadora\n",
    "  \n",
    "  \n",
    "- Segunda sesión\n",
    "  * Programación orientada a objetos\n",
    "  * Creando una clase para una cuenta bancaria\n",
    "  * Modificando los operadores de los objetos\n",
    "  * APIs y contenedores\n",
    "  * Creando una API para un banco"
   ]
  }
 ],
 "metadata": {
  "kernelspec": {
   "display_name": "Python 3 (ipykernel)",
   "language": "python",
   "name": "python3"
  },
  "language_info": {
   "codemirror_mode": {
    "name": "ipython",
    "version": 3
   },
   "file_extension": ".py",
   "mimetype": "text/x-python",
   "name": "python",
   "nbconvert_exporter": "python",
   "pygments_lexer": "ipython3",
   "version": "3.10.6"
  }
 },
 "nbformat": 4,
 "nbformat_minor": 5
}
